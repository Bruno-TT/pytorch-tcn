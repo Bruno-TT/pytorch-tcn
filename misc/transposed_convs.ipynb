{
 "cells": [
  {
   "cell_type": "code",
   "execution_count": 1,
   "metadata": {},
   "outputs": [],
   "source": [
    "import torch"
   ]
  },
  {
   "cell_type": "markdown",
   "metadata": {},
   "source": [
    "## Parameters\n",
    "\n",
    "NOTE: Only works for uneven kernel_sizes AND even strides (due to iterative requirement)"
   ]
  },
  {
   "cell_type": "code",
   "execution_count": 2,
   "metadata": {},
   "outputs": [],
   "source": [
    "kernel_size = 5\n",
    "stride = 2"
   ]
  },
  {
   "cell_type": "markdown",
   "metadata": {},
   "source": [
    "## Setup Causal and Non-Causal Transposed Convolutions \n",
    "\n",
    "\n",
    "Padding is compute from the kernel size to keep the output size the same as the input size."
   ]
  },
  {
   "cell_type": "code",
   "execution_count": 3,
   "metadata": {},
   "outputs": [],
   "source": [
    "padding = (kernel_size - 1) // 2"
   ]
  },
  {
   "cell_type": "markdown",
   "metadata": {},
   "source": [
    "Setup the non-causal transposed convolution as constant 1s and 0 bias"
   ]
  },
  {
   "cell_type": "code",
   "execution_count": 4,
   "metadata": {},
   "outputs": [],
   "source": [
    "tconv1d = torch.nn.ConvTranspose1d(1, 1, kernel_size, stride=stride, padding=padding)\n",
    "\n",
    "tconv1d.weight.data = torch.tensor([[[1.0] * kernel_size]])\n",
    "tconv1d.bias.data = torch.tensor([0.0])\n",
    "\n"
   ]
  },
  {
   "cell_type": "code",
   "execution_count": 5,
   "metadata": {},
   "outputs": [],
   "source": [
    "\n",
    "causal_padding = kernel_size - 1\n",
    "tcausalconv1d = torch.nn.ConvTranspose1d(1, 1, kernel_size, stride=stride, padding=causal_padding)\n",
    "\n",
    "tcausalconv1d.weight.data = torch.tensor([[[1.0] * kernel_size]])\n",
    "tcausalconv1d.bias.data = torch.tensor([0.0])\n",
    "\n",
    "buffer_size = (2 * padding) // stride"
   ]
  },
  {
   "cell_type": "markdown",
   "metadata": {},
   "source": [
    "Test Input"
   ]
  },
  {
   "cell_type": "code",
   "execution_count": 6,
   "metadata": {},
   "outputs": [],
   "source": [
    "x = torch.tensor([[[1.0, 2.0, 3.0, 4.0]]], requires_grad=True)\n",
    "#x = torch.randn(1, 1, 4, requires_grad=True)"
   ]
  },
  {
   "cell_type": "markdown",
   "metadata": {},
   "source": [
    "## Non-Causal Transposed Convolution"
   ]
  },
  {
   "cell_type": "code",
   "execution_count": 7,
   "metadata": {},
   "outputs": [
    {
     "data": {
      "text/plain": [
       "tensor([[[3., 3., 6., 5., 9., 7., 7., 4.]]], grad_fn=<SliceBackward0>)"
      ]
     },
     "execution_count": 7,
     "metadata": {},
     "output_type": "execute_result"
    }
   ],
   "source": [
    "y = tconv1d(torch.cat([x, torch.zeros(1,1,buffer_size)], dim=-1))\n",
    "y[:,:,:x.shape[-1]*stride]"
   ]
  },
  {
   "cell_type": "markdown",
   "metadata": {},
   "source": [
    "## Causal Transposed Convolution"
   ]
  },
  {
   "cell_type": "code",
   "execution_count": 8,
   "metadata": {},
   "outputs": [
    {
     "data": {
      "text/plain": [
       "tensor([[[1., 1., 3., 3., 6., 5., 9., 7.]]], grad_fn=<SliceBackward0>)"
      ]
     },
     "execution_count": 8,
     "metadata": {},
     "output_type": "execute_result"
    }
   ],
   "source": [
    "buffer = torch.zeros((1, 1, buffer_size))\n",
    "x_in = torch.cat([buffer, x, buffer], dim=-1)\n",
    "y = tcausalconv1d(x_in)\n",
    "y = y[:, :, :x.shape[-1]*stride]\n",
    "y"
   ]
  },
  {
   "cell_type": "markdown",
   "metadata": {},
   "source": [
    "## Iterated Causal Convolution"
   ]
  },
  {
   "cell_type": "code",
   "execution_count": 9,
   "metadata": {},
   "outputs": [
    {
     "name": "stdout",
     "output_type": "stream",
     "text": [
      "tensor([[[1., 1.]]], grad_fn=<SliceBackward0>)\n",
      "tensor([[[3., 3.]]], grad_fn=<SliceBackward0>)\n",
      "tensor([[[6., 5.]]], grad_fn=<SliceBackward0>)\n",
      "tensor([[[9., 7.]]], grad_fn=<SliceBackward0>)\n"
     ]
    },
    {
     "data": {
      "text/plain": [
       "tensor([[[1., 1., 3., 3., 6., 5., 9., 7.]]], grad_fn=<CatBackward0>)"
      ]
     },
     "execution_count": 9,
     "metadata": {},
     "output_type": "execute_result"
    }
   ],
   "source": [
    "buffer = torch.zeros((1, 1, buffer_size))\n",
    "\n",
    "y_list = []\n",
    "\n",
    "for t in range(x.shape[2]):\n",
    "    x_in = torch.cat([buffer, x[:,:,t:t+1], torch.zeros(1,1,buffer_size)], dim=-1)\n",
    "    y = tcausalconv1d(x_in)\n",
    "    y = y[:,:,:stride]\n",
    "    buffer = torch.cat([buffer[:,:,1:], x[:,:,t:t+1]], dim=-1)\n",
    "    print(y)\n",
    "    y_list.append(y)\n",
    "\n",
    "torch.cat(y_list, dim=-1)\n"
   ]
  },
  {
   "cell_type": "code",
   "execution_count": null,
   "metadata": {},
   "outputs": [],
   "source": []
  },
  {
   "cell_type": "markdown",
   "metadata": {},
   "source": [
    "# Alternative implementation for special case of kernel_size = 2 * stride for strides >= 2\n",
    "\n",
    "This case leads to well-behaved upsampling properties (e.g. avoids grid like artifacts) which is often needed in generative models."
   ]
  },
  {
   "cell_type": "code",
   "execution_count": 10,
   "metadata": {},
   "outputs": [],
   "source": [
    "kernel_size = 8\n",
    "stride = 4"
   ]
  },
  {
   "cell_type": "code",
   "execution_count": 11,
   "metadata": {},
   "outputs": [],
   "source": [
    "tconv1d = torch.nn.ConvTranspose1d(1, 1, kernel_size, stride=stride, padding=(kernel_size // stride) - 1)\n",
    "\n",
    "tconv1d.weight.data = torch.tensor([[[1.0] * kernel_size]])\n",
    "tconv1d.bias.data = torch.tensor([0.0])"
   ]
  },
  {
   "cell_type": "code",
   "execution_count": 12,
   "metadata": {},
   "outputs": [
    {
     "data": {
      "text/plain": [
       "1"
      ]
     },
     "execution_count": 12,
     "metadata": {},
     "output_type": "execute_result"
    }
   ],
   "source": [
    "tcausalconv1d = torch.nn.ConvTranspose1d(1, 1, kernel_size, stride=stride, padding=0)\n",
    "\n",
    "tcausalconv1d.weight.data = torch.tensor([[[1.0] * kernel_size]])\n",
    "tcausalconv1d.bias.data = torch.tensor([0.0])\n",
    "\n",
    "buffer_size = (kernel_size // stride) - 1\n",
    "buffer_size"
   ]
  },
  {
   "cell_type": "code",
   "execution_count": 13,
   "metadata": {},
   "outputs": [
    {
     "data": {
      "text/plain": [
       "tensor([[[1., 1., 3., 3., 3., 3., 5., 5., 5., 5., 7., 7., 7., 7., 4., 4.]]],\n",
       "       grad_fn=<SliceBackward0>)"
      ]
     },
     "execution_count": 13,
     "metadata": {},
     "output_type": "execute_result"
    }
   ],
   "source": [
    "y = tconv1d(x)\n",
    "y = y[:,:,(kernel_size // stride) - 1:-((kernel_size // stride) - 1)]\n",
    "y"
   ]
  },
  {
   "cell_type": "code",
   "execution_count": 14,
   "metadata": {},
   "outputs": [
    {
     "data": {
      "text/plain": [
       "tensor([[[1., 1., 1., 1., 3., 3., 3., 3., 5., 5., 5., 5., 7., 7., 7., 7.]]],\n",
       "       grad_fn=<SliceBackward0>)"
      ]
     },
     "execution_count": 14,
     "metadata": {},
     "output_type": "execute_result"
    }
   ],
   "source": [
    "buffer = torch.zeros((1, 1, buffer_size))\n",
    "x_in = torch.cat([buffer, x], dim=-1)\n",
    "y = tcausalconv1d(x_in)\n",
    "y = y[:,:,stride:-stride]\n",
    "y"
   ]
  },
  {
   "cell_type": "code",
   "execution_count": 15,
   "metadata": {},
   "outputs": [
    {
     "name": "stdout",
     "output_type": "stream",
     "text": [
      "tensor([[[1., 1., 1., 1.]]], grad_fn=<SliceBackward0>)\n",
      "tensor([[[3., 3., 3., 3.]]], grad_fn=<SliceBackward0>)\n",
      "tensor([[[5., 5., 5., 5.]]], grad_fn=<SliceBackward0>)\n",
      "tensor([[[7., 7., 7., 7.]]], grad_fn=<SliceBackward0>)\n"
     ]
    },
    {
     "data": {
      "text/plain": [
       "tensor([[[1., 1., 1., 1., 3., 3., 3., 3., 5., 5., 5., 5., 7., 7., 7., 7.]]],\n",
       "       grad_fn=<CatBackward0>)"
      ]
     },
     "execution_count": 15,
     "metadata": {},
     "output_type": "execute_result"
    }
   ],
   "source": [
    "buffer = torch.zeros((1, 1, buffer_size))\n",
    "\n",
    "y_list = []\n",
    "\n",
    "for t in range(x.shape[2]):\n",
    "    x_in = torch.cat([buffer, x[:,:,t:t+1]], dim=-1)\n",
    "    y = tcausalconv1d(x_in)\n",
    "    y = y[:,:,stride:-stride]\n",
    "    buffer = torch.cat([buffer[:,:,1:], x[:,:,t:t+1]], dim=-1)\n",
    "    print(y)\n",
    "    y_list.append(y)\n",
    "\n",
    "torch.cat(y_list, dim=-1)"
   ]
  },
  {
   "cell_type": "code",
   "execution_count": null,
   "metadata": {},
   "outputs": [],
   "source": []
  }
 ],
 "metadata": {
  "kernelspec": {
   "display_name": "pytorch-tcn",
   "language": "python",
   "name": "python3"
  },
  "language_info": {
   "codemirror_mode": {
    "name": "ipython",
    "version": 3
   },
   "file_extension": ".py",
   "mimetype": "text/x-python",
   "name": "python",
   "nbconvert_exporter": "python",
   "pygments_lexer": "ipython3",
   "version": "3.10.14"
  }
 },
 "nbformat": 4,
 "nbformat_minor": 2
}
